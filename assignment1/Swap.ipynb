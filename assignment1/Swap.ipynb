{
 "cells": [
  {
   "cell_type": "code",
   "execution_count": 3,
   "metadata": {},
   "outputs": [
    {
     "name": "stdout",
     "output_type": "stream",
     "text": [
      "Before swap: [45, 52, 86, 36, 45, 21, 28, 76, 96, 1, 3, 55, 68]\n",
      "After swap: [68, 52, 86, 36, 45, 21, 28, 76, 96, 1, 3, 55, 45]\n"
     ]
    }
   ],
   "source": [
    "list=[45,52,86,36,45,21,28,76,96,1,3,55,68]\n",
    "print(\"Before swap:\", list)\n",
    "a=list.pop(len(list)-1)\n",
    "b=list.pop(0)\n",
    "list.insert(0,a),\n",
    "list.append(b)           \n",
    "print(\"After swap:\", list)"
   ]
  },
  {
   "cell_type": "code",
   "execution_count": null,
   "metadata": {},
   "outputs": [],
   "source": []
  }
 ],
 "metadata": {
  "kernelspec": {
   "display_name": "Python 3",
   "language": "python",
   "name": "python3"
  },
  "language_info": {
   "codemirror_mode": {
    "name": "ipython",
    "version": 3
   },
   "file_extension": ".py",
   "mimetype": "text/x-python",
   "name": "python",
   "nbconvert_exporter": "python",
   "pygments_lexer": "ipython3",
   "version": "3.7.3"
  }
 },
 "nbformat": 4,
 "nbformat_minor": 2
}
