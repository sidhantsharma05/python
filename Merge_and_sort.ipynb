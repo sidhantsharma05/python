{
 "cells": [
  {
   "cell_type": "code",
   "execution_count": 3,
   "metadata": {},
   "outputs": [
    {
     "name": "stdout",
     "output_type": "stream",
     "text": [
      "Before sort:\n",
      " [22, 3, 8, 99, 65, 45, 12, 35, 52, 32, 65, 94, 25, 1, 5, 77]\n",
      "After sort:\n",
      " [1, 3, 5, 8, 12, 22, 25, 32, 35, 45, 52, 65, 65, 77, 94, 99]\n"
     ]
    }
   ],
   "source": [
    "a=[22,3,8,99,65,45,12,35]\n",
    "b=[52,32,65,94,25,1,5,77]\n",
    "c=a+b\n",
    "print(\"Before sort:\\n\", c)\n",
    "c.sort()\n",
    "print (\"After sort:\\n\", c)"
   ]
  },
  {
   "cell_type": "code",
   "execution_count": null,
   "metadata": {},
   "outputs": [],
   "source": []
  }
 ],
 "metadata": {
  "kernelspec": {
   "display_name": "Python 3",
   "language": "python",
   "name": "python3"
  },
  "language_info": {
   "codemirror_mode": {
    "name": "ipython",
    "version": 3
   },
   "file_extension": ".py",
   "mimetype": "text/x-python",
   "name": "python",
   "nbconvert_exporter": "python",
   "pygments_lexer": "ipython3",
   "version": "3.7.3"
  }
 },
 "nbformat": 4,
 "nbformat_minor": 2
}
